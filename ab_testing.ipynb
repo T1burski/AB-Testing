{
 "cells": [
  {
   "cell_type": "markdown",
   "metadata": {},
   "source": [
    "## A/B Testing\n",
    "Hypothesis testing for comparing the behaviour of two independent groups "
   ]
  },
  {
   "cell_type": "code",
   "execution_count": 30,
   "metadata": {},
   "outputs": [],
   "source": [
    "# importing all the libs we will need\n",
    "\n",
    "import pandas as pd\n",
    "import numpy as np\n",
    "import matplotlib.pyplot as plt\n",
    "import seaborn as sns\n",
    "import scipy.stats as stats\n",
    "from scipy.stats import fisher_exact, norm\n",
    "from statsmodels.graphics.gofplots import qqplot"
   ]
  },
  {
   "cell_type": "markdown",
   "metadata": {},
   "source": [
    "Let's ingest the data and start doing some transformations to help us later on"
   ]
  },
  {
   "cell_type": "code",
   "execution_count": 31,
   "metadata": {},
   "outputs": [],
   "source": [
    "# ingesting the data that is available in csv format\n",
    "\n",
    "df = pd.read_csv(r\"C:\\Users\\artur\\ab_test\\cookie_cats.csv\")\n",
    "\n",
    "# changing the text in the retention_7 column to a string format for visualization and interpretation purposes\n",
    "\n",
    "df[\"retention_7\"] = np.where(df[\"retention_7\"]==True, \"Yes\", \"No\")"
   ]
  },
  {
   "cell_type": "markdown",
   "metadata": {},
   "source": [
    "# First tests: Difference of Means\n",
    "Here we are checking if the difference between the means of rounds played by the users within each version group (Gate 30 and Gate 40) is statistically significant."
   ]
  },
  {
   "cell_type": "markdown",
   "metadata": {},
   "source": [
    "Let's take a deeper dive into the feature that states how many rounds (levels) a user played. As we can see, that are a lot of outliers, resulting in a very skewed distribution, after all the 99th percentile is 493 and the max value is 49854."
   ]
  },
  {
   "cell_type": "code",
   "execution_count": 12,
   "metadata": {},
   "outputs": [
    {
     "data": {
      "text/plain": [
       "count    90189.000000\n",
       "mean        51.872457\n",
       "std        195.050858\n",
       "min          0.000000\n",
       "25%          5.000000\n",
       "50%         16.000000\n",
       "75%         51.000000\n",
       "95%        221.000000\n",
       "96%        254.000000\n",
       "97%        299.000000\n",
       "98%        364.000000\n",
       "99%        493.000000\n",
       "max      49854.000000\n",
       "Name: sum_gamerounds, dtype: float64"
      ]
     },
     "execution_count": 12,
     "metadata": {},
     "output_type": "execute_result"
    }
   ],
   "source": [
    "df[\"sum_gamerounds\"].describe(percentiles=[0.25,0.50,0.75,0.95,0.96,0.97,0.98,0.99])"
   ]
  },
  {
   "cell_type": "markdown",
   "metadata": {},
   "source": [
    "Taking the value of 500 rounds (close to the 99th percentile) let's check how this threshold separates our data"
   ]
  },
  {
   "cell_type": "code",
   "execution_count": 3,
   "metadata": {},
   "outputs": [
    {
     "name": "stdout",
     "output_type": "stream",
     "text": [
      "Number of players with number of rounds played equal or higher than 500: 860 - 0.95% of the total players\n",
      "Number of players with number of rounds played lower than 500: 89329 - 99.05% of the total players\n"
     ]
    }
   ],
   "source": [
    "threshold = 500\n",
    "a = len(df.loc[df[\"sum_gamerounds\"] >= threshold])\n",
    "b = len(df.loc[df[\"sum_gamerounds\"] < threshold])\n",
    "print(f\"Number of players with number of rounds played equal or higher than {threshold}: {a} - {round((a/len(df))*100, 2)}% of the total players\")\n",
    "print(f\"Number of players with number of rounds played lower than {threshold}: {b} - {round((b/len(df))*100, 2)}% of the total players\")"
   ]
  },
  {
   "cell_type": "markdown",
   "metadata": {},
   "source": [
    "As we can see above, less than 1% of the users played more than 500 rounds. Since our first hypothesis test will be considering the difference of means, let's remove these values that are way to high in comparison with the bigger mass of users. Also, below, we can see that these users that played a lot of rounds are well distributed between the game versions: for the hardcore players the level-position of the gate does not make much difference.\n",
    "\n",
    "Also we are plotting a box-plot visual to check, after removing the users that played more than 500 levels, the distribution of the 'sum_gamerounds'."
   ]
  },
  {
   "cell_type": "code",
   "execution_count": 5,
   "metadata": {},
   "outputs": [
    {
     "data": {
      "text/plain": [
       "version\n",
       "gate_30    428\n",
       "gate_40    432\n",
       "Name: userid, dtype: int64"
      ]
     },
     "execution_count": 5,
     "metadata": {},
     "output_type": "execute_result"
    }
   ],
   "source": [
    "df.loc[df[\"sum_gamerounds\"] >= threshold].groupby([\"version\"])['userid'].count()"
   ]
  },
  {
   "cell_type": "code",
   "execution_count": 119,
   "metadata": {},
   "outputs": [
    {
     "data": {
      "text/plain": [
       "[]"
      ]
     },
     "execution_count": 119,
     "metadata": {},
     "output_type": "execute_result"
    },
    {
     "data": {
      "image/png": "[encoded data removed]",
      "text/plain": [
       "<Figure size 640x480 with 1 Axes>"
      ]
     },
     "metadata": {},
     "output_type": "display_data"
    }
   ],
   "source": [
    "plt.boxplot(df.loc[df[\"sum_gamerounds\"] < 500][\"sum_gamerounds\"])\n",
    "plt.plot()"
   ]
  },
  {
   "cell_type": "code",
   "execution_count": 3,
   "metadata": {},
   "outputs": [],
   "source": [
    "df_mean = df.loc[df[\"sum_gamerounds\"] < 500]"
   ]
  },
  {
   "cell_type": "markdown",
   "metadata": {},
   "source": [
    "Let's also check if there is any user that just downloaded the game but did not play a single level. We can see below that 4.43% of the players (remember that now we removed the outliers) have not played a single level. Since we want to check the hypothesis of users that actually interacted with the game, these users will be removed from the analysis."
   ]
  },
  {
   "cell_type": "code",
   "execution_count": 7,
   "metadata": {},
   "outputs": [
    {
     "name": "stdout",
     "output_type": "stream",
     "text": [
      "Number of players that have not even played the game: 3994 - 4.43% of the total players\n"
     ]
    }
   ],
   "source": [
    "z = len(df_mean.loc[df_mean[\"sum_gamerounds\"] < 1])\n",
    "print(f\"Number of players that have not even played the game: {z} - {round((z/len(df))*100, 2)}% of the total players\")"
   ]
  },
  {
   "cell_type": "code",
   "execution_count": 4,
   "metadata": {},
   "outputs": [],
   "source": [
    "df_mean = df_mean.loc[df_mean[\"sum_gamerounds\"] > 0]"
   ]
  },
  {
   "cell_type": "markdown",
   "metadata": {},
   "source": [
    "One important thing we need to address is the distribution of the variable 'sum_gamerounds' within each version if the game. If their distribution is approximately normal, we can simply use a t-test, for example, or even a z-test if we have a large sample size. However, if their distributions are far from normal (highly skewed, for example), the test approach needs to be different. Let's check, below, using a qq-plot and a histogram, if the distributions are approximately normal."
   ]
  },
  {
   "cell_type": "code",
   "execution_count": 9,
   "metadata": {},
   "outputs": [
    {
     "data": {
      "image/png": "[encoded data removed]",
      "text/plain": [
       "<Figure size 1200x600 with 2 Axes>"
      ]
     },
     "metadata": {},
     "output_type": "display_data"
    },
    {
     "data": {
      "image/png": "[encoded data removed]",
      "text/plain": [
       "<Figure size 1200x600 with 2 Axes>"
      ]
     },
     "metadata": {},
     "output_type": "display_data"
    }
   ],
   "source": [
    "for v in df_mean[\"version\"].unique():\n",
    "    data = df_mean.loc[df_mean[\"version\"] == v, \"sum_gamerounds\"]\n",
    "\n",
    "    plt.figure(figsize=(12, 6))\n",
    "\n",
    "    plt.subplot(1, 2, 1)\n",
    "    qqplot(data, line='s', ax=plt.gca())\n",
    "    plt.title(f'Q-Q Plot for Version {v}')\n",
    "\n",
    "    plt.subplot(1, 2, 2)\n",
    "    plt.hist(data, bins=30, edgecolor='black')\n",
    "    plt.title(f'Histogram for Version {v}')\n",
    "\n",
    "    plt.tight_layout()\n",
    "    plt.show()"
   ]
  },
  {
   "cell_type": "markdown",
   "metadata": {},
   "source": [
    "As we can see above, the distributions are highly skewed, with a lot of higher numbers (right skew).\n",
    "\n",
    "With this, we need to adopt other types of hypothesis testing, such as applying t-test for difference of means considering log-transformed data (technique adopted to approx. our data to a normal behaviour) and applying the non-parametric Mann-Whitney U test.\n",
    "\n",
    "We will proceed with both to check for hypothesis. Also, in the case of the t-test applied to log-transformed data, we will consider from the start that the variances of each group are not equal for the sake of simplicity.\n",
    "\n",
    "Also below we can see that the mean value of 'sum_gamerounds' for the version of Gate 30 is 46.898 levels, and for the version of Gate 40 is 46.730 levels, which are seemingly very similar."
   ]
  },
  {
   "cell_type": "code",
   "execution_count": 30,
   "metadata": {},
   "outputs": [
    {
     "data": {
      "text/plain": [
       "gate_40    43000\n",
       "gate_30    42335\n",
       "Name: version, dtype: int64"
      ]
     },
     "execution_count": 30,
     "metadata": {},
     "output_type": "execute_result"
    }
   ],
   "source": [
    "df_mean[\"version\"].value_counts()"
   ]
  },
  {
   "cell_type": "code",
   "execution_count": 31,
   "metadata": {},
   "outputs": [
    {
     "name": "stdout",
     "output_type": "stream",
     "text": [
      "Mean of sum of round played for players in the Gate 30 group: 46.89812212117633\n",
      "Mean of sum of round played for players in the Gate 40 group: 46.730186046511626\n"
     ]
    }
   ],
   "source": [
    "mean_30 = np.mean(df_mean.loc[df_mean[\"version\"] == 'gate_30'][\"sum_gamerounds\"].values)\n",
    "mean_40 = np.mean(df_mean.loc[df_mean[\"version\"] == 'gate_40'][\"sum_gamerounds\"].values)\n",
    "\n",
    "print(f\"Mean of sum of round played for players in the Gate 30 group: {mean_30}\")\n",
    "print(f\"Mean of sum of round played for players in the Gate 40 group: {mean_40}\")"
   ]
  },
  {
   "cell_type": "markdown",
   "metadata": {},
   "source": [
    "## Hypothesis\n",
    "We now need to state our hypothesis in order to proceed. We would like to know if changing the gate that charges users to move faster in the game from level 30 to level 40 increases the number of round the users play, retaining them within the game. We are assuming that the values sampled are independent from each other and were obtained through a simple random sampling process.\n",
    "\n",
    "Our null hypothesis is that the means of rounds played by the users in both version groups (Gate 30 and Gate 40) are statistically the same, therefore their difference equals 0. And our alternate hypothesis is that the means are statistically different according to a confidence level.\n",
    "\n",
    "## H0: μ(40) - μ(30) = 0\n",
    "## H1: μ(40) - μ(30) != 0\n",
    "\n",
    "We are proceeding using a confidence level of 95%, therefore our α = 0.05, which are our chances of commiting a type I error: Rejecting null when null is true. We are doing a two-sided test here.\n",
    "\n",
    "The function below performs two tests which are appropriate for the situation we have at hand: a highly skewed dataset. We are performing a t-test with log-transformed data and the non-parametric Mann-Whitney U test. These two are common approaches for skewed datasets that deviate strongly from normality.\n",
    "\n",
    "If our p-value is lower than 0.05, we have strong evidences that our null hypothesis is false and, therefore, the means are potentially different from each other, in our case with a 95% confidence."
   ]
  },
  {
   "cell_type": "code",
   "execution_count": 9,
   "metadata": {},
   "outputs": [],
   "source": [
    "def apply_mean_tests(g1, g2, alt='two-sided'):\n",
    "\n",
    "    t_statistic, p_value_ttest = stats.ttest_ind(np.log(g1), np.log(g2), equal_var=False, alternative=alt)\n",
    "\n",
    "    print(f\"p-value for t-test applied to log transformed data: {p_value_ttest}\")\n",
    "    if p_value_ttest < 0.05:\n",
    "        print(r\"H0 rejected: there is significant difference between the means with a 95% confidence considering t-test with log transformed data\")\n",
    "    else:\n",
    "        print(r\"H0 NOT rejected: there is NO significant difference between the means with a 95% confidence considering t-test with log transformed data\")\n",
    "    \n",
    "    print(\"==============================\")\n",
    "\n",
    "    mw_statistic, p_value_mw = stats.mannwhitneyu(g1, g2, )\n",
    "\n",
    "    print(f\"p-value for Mann-Whitney U test: {p_value_mw}\")\n",
    "    if p_value_ttest < 0.05:\n",
    "        print(r\"H0 rejected: there is significant difference between the means with a 95% confidence considering Mann-Whitney U test\")\n",
    "    else:\n",
    "        print(r\"H0 NOT rejected: there is NO significant difference between the means with a 95% confidence considering Mann-Whitney U test\")\n"
   ]
  },
  {
   "cell_type": "markdown",
   "metadata": {},
   "source": [
    "As we can see below, no significant difference between the means was detected according to our confidence level, in both tests this conclusion was made."
   ]
  },
  {
   "cell_type": "code",
   "execution_count": 33,
   "metadata": {},
   "outputs": [
    {
     "name": "stdout",
     "output_type": "stream",
     "text": [
      "p-value for t-test applied to log transformed data: 0.13739395470526766\n",
      "H0 NOT rejected: there is NO significant difference between the means with a 95% confidence considering t-test with log transformed data\n",
      "==============================\n",
      "p-value for Mann-Whitney U test: 0.11411420078473904\n",
      "H0 NOT rejected: there is NO significant difference between the means with a 95% confidence considering Mann-Whitney U test\n"
     ]
    }
   ],
   "source": [
    "apply_mean_tests(df_mean.loc[df_mean[\"version\"] == 'gate_30'][\"sum_gamerounds\"].values, \n",
    "                 df_mean.loc[df_mean[\"version\"] == 'gate_40'][\"sum_gamerounds\"].values)"
   ]
  },
  {
   "cell_type": "markdown",
   "metadata": {},
   "source": [
    "However, another interpretation of the problem can be made. Users that haven't reached level 30 have not felt the difference of the gate change in any way. Changing the level-position of the gate, for these users, does not make any difference!\n",
    "\n",
    "So, another approach, considering this, can be made: If we test the means considering only players that reached, at least, level 30.\n",
    "\n",
    "Below, when we do this, another conclusion is made: There is a significant difference between the means! Both α were less than 0.05."
   ]
  },
  {
   "cell_type": "code",
   "execution_count": 5,
   "metadata": {},
   "outputs": [
    {
     "name": "stdout",
     "output_type": "stream",
     "text": [
      "p-value for t-test applied to log transformed data: 0.0015090587655257925\n",
      "H0 rejected: there is significant difference between the means with a 95% confidence considering t-test with log transformed data\n",
      "==============================\n",
      "p-value for Mann-Whitney U test: 7.217828507999074e-05\n",
      "H0 rejected: there is significant difference between the means with a 95% confidence considering Mann-Whitney U test\n"
     ]
    }
   ],
   "source": [
    "df_mean = df_mean.loc[df_mean[\"sum_gamerounds\"] > 29]\n",
    "\n",
    "apply_mean_tests(df_mean.loc[df_mean[\"version\"] == 'gate_30'][\"sum_gamerounds\"].values, \n",
    "                 df_mean.loc[df_mean[\"version\"] == 'gate_40'][\"sum_gamerounds\"].values)"
   ]
  },
  {
   "cell_type": "markdown",
   "metadata": {},
   "source": [
    "And as we can see below, the mean number of rounds for users that were in the version Gate 40 was higher than version Gate 30.\n",
    "\n",
    "Also, other tests were done, considering now the alternative hypothesis that:\n",
    "\n",
    "## H1: μ(40) - μ(30) > 0\n",
    "\n",
    "And we one more time see that indeed there is a difference between the means and that changing the gate from level 30 to level 40 increased the mean number of rounds played with a confidence level of 95% and the approach to consider only players that have actually had contact with the changes (players that reached at least level 30)."
   ]
  },
  {
   "cell_type": "code",
   "execution_count": 6,
   "metadata": {},
   "outputs": [
    {
     "name": "stdout",
     "output_type": "stream",
     "text": [
      "Mean of sum of round played for players in the Gate 30 group: 106.2326842494454\n",
      "Mean of sum of round played for players in the Gate 40 group: 107.7578641616711\n"
     ]
    }
   ],
   "source": [
    "mean_30 = np.mean(df_mean.loc[df_mean[\"version\"] == 'gate_30'][\"sum_gamerounds\"].values)\n",
    "mean_40 = np.mean(df_mean.loc[df_mean[\"version\"] == 'gate_40'][\"sum_gamerounds\"].values)\n",
    "\n",
    "print(f\"Mean of sum of round played for players in the Gate 30 group: {mean_30}\")\n",
    "print(f\"Mean of sum of round played for players in the Gate 40 group: {mean_40}\")"
   ]
  },
  {
   "cell_type": "code",
   "execution_count": 10,
   "metadata": {},
   "outputs": [
    {
     "name": "stdout",
     "output_type": "stream",
     "text": [
      "p-value for t-test applied to log transformed data: 0.0007545293827628962\n",
      "H0 rejected: there is significant difference between the means with a 95% confidence considering t-test with log transformed data\n",
      "==============================\n",
      "p-value for Mann-Whitney U test: 7.217828507999074e-05\n",
      "H0 rejected: there is significant difference between the means with a 95% confidence considering Mann-Whitney U test\n"
     ]
    }
   ],
   "source": [
    "apply_mean_tests(df_mean.loc[df_mean[\"version\"] == 'gate_30'][\"sum_gamerounds\"].values, \n",
    "                 df_mean.loc[df_mean[\"version\"] == 'gate_40'][\"sum_gamerounds\"].values,\n",
    "                 alt='less')"
   ]
  },
  {
   "cell_type": "markdown",
   "metadata": {},
   "source": [
    "# Second tests: Difference of Proportions\n",
    "Here we are checking if the retention of users, considering if they returned to the game 7 days after installing if, is significant.\n",
    "\n",
    "If a user has \"Yes\" in the column 'retention_7', it means that they returned to the game 7 days after installing it, and therefore we consider that the user was retained."
   ]
  },
  {
   "cell_type": "markdown",
   "metadata": {},
   "source": [
    "First, let's remove the players that have not felt the impact of the change of the gate's position (users that have not reached ate least level 30). Also, since we are not dealing with the number of rounds played, we are not removing the players that played a lot of rounds (more than the threshold of 500 previously set). Also, as seen below, we can still see users that played more than 500 rounds but still were not retained 7 days after installing the game. "
   ]
  },
  {
   "cell_type": "code",
   "execution_count": 32,
   "metadata": {},
   "outputs": [],
   "source": [
    "df_prop = df[[\"userid\", \"sum_gamerounds\", \"version\", \"retention_7\"]]"
   ]
  },
  {
   "cell_type": "code",
   "execution_count": 33,
   "metadata": {},
   "outputs": [
    {
     "data": {
      "text/html": [
       "<div>\n",
       "<style scoped>\n",
       "    .dataframe tbody tr th:only-of-type {\n",
       "        vertical-align: middle;\n",
       "    }\n",
       "\n",
       "    .dataframe tbody tr th {\n",
       "        vertical-align: top;\n",
       "    }\n",
       "\n",
       "    .dataframe thead th {\n",
       "        text-align: right;\n",
       "    }\n",
       "</style>\n",
       "<table border=\"1\" class=\"dataframe\">\n",
       "  <thead>\n",
       "    <tr style=\"text-align: right;\">\n",
       "      <th></th>\n",
       "      <th>retention_7</th>\n",
       "      <th>N_users</th>\n",
       "      <th>Max_rounds</th>\n",
       "    </tr>\n",
       "  </thead>\n",
       "  <tbody>\n",
       "    <tr>\n",
       "      <th>0</th>\n",
       "      <td>No</td>\n",
       "      <td>38</td>\n",
       "      <td>2640</td>\n",
       "    </tr>\n",
       "    <tr>\n",
       "      <th>1</th>\n",
       "      <td>Yes</td>\n",
       "      <td>822</td>\n",
       "      <td>49854</td>\n",
       "    </tr>\n",
       "  </tbody>\n",
       "</table>\n",
       "</div>"
      ],
      "text/plain": [
       "  retention_7  N_users  Max_rounds\n",
       "0          No       38        2640\n",
       "1         Yes      822       49854"
      ]
     },
     "execution_count": 33,
     "metadata": {},
     "output_type": "execute_result"
    }
   ],
   "source": [
    "df_prop.loc[(df_prop[\"sum_gamerounds\"] >= 500)].groupby('retention_7').agg(N_users=('userid', 'count'),\n",
    "                                                                           Max_rounds=('sum_gamerounds', np.max)).reset_index()"
   ]
  },
  {
   "cell_type": "code",
   "execution_count": 34,
   "metadata": {},
   "outputs": [],
   "source": [
    "df_prop = df_prop.loc[(df_prop[\"sum_gamerounds\"] > 29)]"
   ]
  },
  {
   "cell_type": "markdown",
   "metadata": {},
   "source": [
    "In the next three cells, some previous exploration of the data was made.\n",
    "\n",
    "From the spot we can see that the proportions of users retained are very close:\n",
    "\n",
    "Gate 30 = 43.88%\n",
    "\n",
    "Gate 40 = 43.00%\n",
    "\n",
    "Now we need to check if indeed they are not different of eachother."
   ]
  },
  {
   "cell_type": "code",
   "execution_count": 24,
   "metadata": {},
   "outputs": [
    {
     "data": {
      "text/html": [
       "<div>\n",
       "<style scoped>\n",
       "    .dataframe tbody tr th:only-of-type {\n",
       "        vertical-align: middle;\n",
       "    }\n",
       "\n",
       "    .dataframe tbody tr th {\n",
       "        vertical-align: top;\n",
       "    }\n",
       "\n",
       "    .dataframe thead th {\n",
       "        text-align: right;\n",
       "    }\n",
       "</style>\n",
       "<table border=\"1\" class=\"dataframe\">\n",
       "  <thead>\n",
       "    <tr style=\"text-align: right;\">\n",
       "      <th></th>\n",
       "      <th>version</th>\n",
       "      <th>retention_7</th>\n",
       "      <th>total_samples</th>\n",
       "      <th>total_version_samples</th>\n",
       "    </tr>\n",
       "  </thead>\n",
       "  <tbody>\n",
       "    <tr>\n",
       "      <th>0</th>\n",
       "      <td>gate_30</td>\n",
       "      <td>No</td>\n",
       "      <td>9348</td>\n",
       "      <td>16656</td>\n",
       "    </tr>\n",
       "    <tr>\n",
       "      <th>1</th>\n",
       "      <td>gate_30</td>\n",
       "      <td>Yes</td>\n",
       "      <td>7308</td>\n",
       "      <td>16656</td>\n",
       "    </tr>\n",
       "    <tr>\n",
       "      <th>2</th>\n",
       "      <td>gate_40</td>\n",
       "      <td>No</td>\n",
       "      <td>9469</td>\n",
       "      <td>16613</td>\n",
       "    </tr>\n",
       "    <tr>\n",
       "      <th>3</th>\n",
       "      <td>gate_40</td>\n",
       "      <td>Yes</td>\n",
       "      <td>7144</td>\n",
       "      <td>16613</td>\n",
       "    </tr>\n",
       "  </tbody>\n",
       "</table>\n",
       "</div>"
      ],
      "text/plain": [
       "   version retention_7  total_samples  total_version_samples\n",
       "0  gate_30          No           9348                  16656\n",
       "1  gate_30         Yes           7308                  16656\n",
       "2  gate_40          No           9469                  16613\n",
       "3  gate_40         Yes           7144                  16613"
      ]
     },
     "execution_count": 24,
     "metadata": {},
     "output_type": "execute_result"
    }
   ],
   "source": [
    "df_prop_grouped1 = df_prop.groupby([\"version\", \"retention_7\"]).agg(total_samples=(\"userid\", 'count')).reset_index()\n",
    "df_prop_grouped1['total_version_samples'] = df_prop_grouped1.groupby('version')['total_samples'].transform('sum')\n",
    "df_prop_grouped1"
   ]
  },
  {
   "cell_type": "code",
   "execution_count": 25,
   "metadata": {},
   "outputs": [],
   "source": [
    "total_30 = len(df_prop.loc[(df_prop[\"version\"]==\"gate_30\")])\n",
    "total_40 = len(df_prop.loc[(df_prop[\"version\"]==\"gate_40\")])\n",
    "prop_30 = df_prop_grouped1.loc[(df_prop_grouped1[\"retention_7\"]==\"Yes\") & (df_prop_grouped1[\"version\"]==\"gate_30\")][\"total_samples\"].values[0] / total_30\n",
    "prop_40 = df_prop_grouped1.loc[(df_prop_grouped1[\"retention_7\"]==\"Yes\") & (df_prop_grouped1[\"version\"]==\"gate_40\")][\"total_samples\"].values[0] / total_40"
   ]
  },
  {
   "cell_type": "code",
   "execution_count": 26,
   "metadata": {},
   "outputs": [
    {
     "name": "stdout",
     "output_type": "stream",
     "text": [
      "Proportion of players retained after 7 days in the Gate 30 Version: 43.88\n",
      "Proportion of players retained after 7 days in the Gate 40 Version: 43.0\n"
     ]
    }
   ],
   "source": [
    "print(f\"Proportion of players retained after 7 days in the Gate 30 Version: {round(prop_30*100, 2)}\")\n",
    "print(f\"Proportion of players retained after 7 days in the Gate 40 Version: {round(prop_40*100, 2)}\")"
   ]
  },
  {
   "cell_type": "markdown",
   "metadata": {},
   "source": [
    "Let's also check if we have enough samples in each group to perform a z-test of proportions.\n",
    "\n",
    "We first calculate the pooled proportion, p_hat, and then check for each sample if n * p_hat >= 10 and n * (1-p_hat) >= 10.\n",
    "\n",
    "And they are."
   ]
  },
  {
   "cell_type": "code",
   "execution_count": 27,
   "metadata": {},
   "outputs": [
    {
     "name": "stdout",
     "output_type": "stream",
     "text": [
      "For Gate 30 Version: p(n)=7235.339565361147, 1-p(n)=9420.660434638854\n",
      "For Gate 30 Version: p(n)=7216.660434638853, 1-p(n)=9396.339565361148\n"
     ]
    }
   ],
   "source": [
    "p_hat = (total_30*prop_30 + total_40*prop_40) / (total_30 + total_40)\n",
    "print(f\"For Gate 30 Version: p(n)={p_hat*total_30}, 1-p(n)={(1-p_hat)*total_30}\")\n",
    "print(f\"For Gate 30 Version: p(n)={p_hat*total_40}, 1-p(n)={(1-p_hat)*total_40}\")"
   ]
  },
  {
   "cell_type": "markdown",
   "metadata": {},
   "source": [
    "## Hypothesis\n",
    "We now need to state our hypothesis in order to proceed. We would like to know if changing the gate that charges users to move faster in the game from level 30 to level 40 changes the retention of users 7 days after installing the game. We are assuming that the values sampled are independent from each other and were obtained through a simple random sampling process.\n",
    "\n",
    "Our null hypothesis is that the proportions of players retained 7 days after installing the game in the Gate 30 version and in the Gate 40 version are statistically the same, therefore their difference equals 0. And our alternate hypothesis is that the proportions are statistically different according to a confidence level.\n",
    "\n",
    "## H0: p(40) - p(30) = 0\n",
    "## H1: p(40) - p(30) != 0\n",
    "\n",
    "We are proceeding using a confidence level of 95%, therefore our α = 0.05, which are our chances of commiting a type I error: Rejecting null when null is true. We are doing a two-sided test here.\n",
    "\n",
    "We are going to apply two tests: A z-test for proportions and a Fisher Exact test. Since we have very large samples, the z-test would be enough, but for studying purposes we are doing Fisher's test too.\n"
   ]
  },
  {
   "cell_type": "code",
   "execution_count": 28,
   "metadata": {},
   "outputs": [],
   "source": [
    "def apply_prop_tests(true1, true2, n1, n2):\n",
    "    \n",
    "    # Fisher's Exact Test\n",
    "    contingency_table = np.array([\n",
    "        [true1, n1 - true1],\n",
    "        [true2, n2 - true2]\n",
    "    ])\n",
    "\n",
    "    odds_ratio, p_value_fisher = fisher_exact(contingency_table)\n",
    "\n",
    "    # Z-test for Proportions\n",
    "    p1 = true1 / n1\n",
    "    p2 = true2 / n2\n",
    "\n",
    "    p_pool = (true1 + true2) / (n1 + n2)\n",
    "\n",
    "    se = np.sqrt(p_pool * (1 - p_pool) * (1 / n1 + 1 / n2))\n",
    "\n",
    "    z_score = (p1 - p2) / se\n",
    "\n",
    "    p_value_z = 2 * (1 - norm.cdf(np.abs(z_score)))\n",
    "\n",
    "    print(f\"Proportion of users retained after 7 days in the Gate 30 version: {round(p1*100, 2)}\")\n",
    "    print(f\"Proportion of users retained after 7 days in the Gate 40 version: {round(p2*100, 2)}\")\n",
    "    \n",
    "    print(\"==============================\")\n",
    "    \n",
    "    print(f\"p-value for Fisher's exact test: {p_value_fisher}\")\n",
    "    if p_value_fisher < 0.05:\n",
    "        print(r\"H0 rejected: there is significant difference between the proportions with a 95% confidence considering Fisher's exact test\")\n",
    "    else:\n",
    "        print(r\"H0 NOT rejected: there is NO significant difference between the proportions with a 95% confidence considering Fisher's exact test\")\n",
    "    \n",
    "    print(\"==============================\")\n",
    "\n",
    "    print(f\"p-value for Z-test: {p_value_z}\")\n",
    "    if p_value_z < 0.05:\n",
    "        print(r\"H0 rejected: there is significant difference between the proportions with a 95% confidence considering Z-test\")\n",
    "    else:\n",
    "        print(r\"H0 NOT rejected: there is NO significant difference between the proportions with a 95% confidence considering Z-test\")\n"
   ]
  },
  {
   "cell_type": "markdown",
   "metadata": {},
   "source": [
    "When we apply the tests, both of them state that, with 95% confidence, there is no statistical difference between the proportions of users retained 7 deys after installing the game, remembering that we considered only the players that had contact with the changes, which are the users that played at least 30 rounds."
   ]
  },
  {
   "cell_type": "code",
   "execution_count": 29,
   "metadata": {},
   "outputs": [
    {
     "name": "stdout",
     "output_type": "stream",
     "text": [
      "Proportion of users retained after 7 days in the Gate 30 version: 43.88\n",
      "Proportion of users retained after 7 days in the Gate 40 version: 43.0\n",
      "==============================\n",
      "p-value for Fisher's exact test: 0.10876756007199474\n",
      "H0 NOT rejected: there is NO significant difference between the proportions with a 95% confidence considering Fisher's exact test\n",
      "==============================\n",
      "p-value for Z-test: 0.10797874787534667\n",
      "H0 NOT rejected: there is NO significant difference between the proportions with a 95% confidence considering Z-test\n"
     ]
    }
   ],
   "source": [
    "apply_prop_tests(true1 = df_prop_grouped1.loc[(df_prop_grouped1[\"retention_7\"]==\"Yes\") & (df_prop_grouped1[\"version\"]==\"gate_30\")][\"total_samples\"].values[0],\n",
    "                 true2 = df_prop_grouped1.loc[(df_prop_grouped1[\"retention_7\"]==\"Yes\") & (df_prop_grouped1[\"version\"]==\"gate_40\")][\"total_samples\"].values[0],\n",
    "                 n1 = total_30,\n",
    "                 n2 = total_40)"
   ]
  },
  {
   "cell_type": "markdown",
   "metadata": {},
   "source": [
    "## Conclusions\n",
    "When considering only the users that played 30 rounds or more, having contact with the changes made with the gates' positions, and not considering, for the difference of means, users that played more rounds than the 99th percentile of the rounds played by each player (being therefore considered as outliers that could potentially wrongly deviate the results since they are players that played so much that the gate's position does not make any difference whatsoever):\n",
    "\n",
    "We conclude that the mean number of rounds played increased when we changed the gate's position from level 30 to level 40. However, the retention of players in the 7th day after the game installation did not suffer any significant changes, all considering a 95% level of confidence.\n",
    "\n",
    "This could mean that indeed the players played more rounds when we changed the gate's position from gate 30 to gate 40, however these more extense game sessions occured within the first week and before the last day of the said week, which could indicate that only changing the gate's position is not enough to increase user retention."
   ]
  }
 ],
 "metadata": {
  "kernelspec": {
   "display_name": "base",
   "language": "python",
   "name": "python3"
  },
  "language_info": {
   "codemirror_mode": {
    "name": "ipython",
    "version": 3
   },
   "file_extension": ".py",
   "mimetype": "text/x-python",
   "name": "python",
   "nbconvert_exporter": "python",
   "pygments_lexer": "ipython3",
   "version": "3.9.13"
  }
 },
 "nbformat": 4,
 "nbformat_minor": 2
}
